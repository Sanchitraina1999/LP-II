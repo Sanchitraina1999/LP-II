{
 "cells": [
  {
   "cell_type": "code",
   "execution_count": 2,
   "id": "15c152af",
   "metadata": {},
   "outputs": [],
   "source": [
    "import numpy as np\n",
    "import matplotlib.pyplot as plt\n",
    "import pandas as pd\n",
    "from apyori import apriori"
   ]
  },
  {
   "cell_type": "code",
   "execution_count": 3,
   "id": "41870b02",
   "metadata": {},
   "outputs": [
    {
     "data": {
      "text/plain": [
       "(7501, 20)"
      ]
     },
     "execution_count": 3,
     "metadata": {},
     "output_type": "execute_result"
    }
   ],
   "source": [
    "store_data = pd.read_csv('store_data.csv', header=None)\n",
    "store_data.head()\n",
    "store_data.shape"
   ]
  },
  {
   "cell_type": "code",
   "execution_count": 4,
   "id": "a60fae13",
   "metadata": {},
   "outputs": [],
   "source": [
    "records = []\n",
    "for i in range(0,7501):\n",
    "    records.append([str(store_data.values[i,j]) for j in range(0,20) ])\n",
    "\n",
    "for i,j in enumerate(records):\n",
    "    while 'nan' in records[i]: records[i].remove('nan')"
   ]
  },
  {
   "cell_type": "code",
   "execution_count": 5,
   "id": "acf21a5d",
   "metadata": {},
   "outputs": [
    {
     "name": "stdout",
     "output_type": "stream",
     "text": [
      "RelationRecord(items=frozenset({'light cream', 'chicken'}), support=0.004532728969470737, ordered_statistics=[OrderedStatistic(items_base=frozenset({'light cream'}), items_add=frozenset({'chicken'}), confidence=0.29059829059829057, lift=4.84395061728395)])\n"
     ]
    }
   ],
   "source": [
    "association_rules = apriori(records,min_support = 0.0045, min_confidence = 0.2, min_lift = 3)\n",
    "association_results = list(association_rules)\n",
    "print(association_results[0])"
   ]
  },
  {
   "cell_type": "code",
   "execution_count": 6,
   "id": "73291a44",
   "metadata": {},
   "outputs": [
    {
     "name": "stdout",
     "output_type": "stream",
     "text": [
      "Rule: ['light cream'] -> ['chicken']\n",
      "Support: 0.004532728969470737\n",
      "Confidence: 0.29059829059829057\n",
      "Lift: 4.84395061728395\n",
      "======================================\n",
      "Rule: ['mushroom cream sauce'] -> ['escalope']\n",
      "Support: 0.005732568990801226\n",
      "Confidence: 0.3006993006993007\n",
      "Lift: 3.790832696715049\n",
      "======================================\n",
      "Rule: ['pasta'] -> ['escalope']\n",
      "Support: 0.005865884548726837\n",
      "Confidence: 0.3728813559322034\n",
      "Lift: 4.700811850163794\n",
      "======================================\n",
      "Rule: ['herb & pepper'] -> ['ground beef']\n",
      "Support: 0.015997866951073192\n",
      "Confidence: 0.3234501347708895\n",
      "Lift: 3.2919938411349285\n",
      "======================================\n",
      "Rule: ['tomato sauce'] -> ['ground beef']\n",
      "Support: 0.005332622317024397\n",
      "Confidence: 0.3773584905660377\n",
      "Lift: 3.840659481324083\n",
      "======================================\n",
      "Rule: ['whole wheat pasta'] -> ['olive oil']\n",
      "Support: 0.007998933475536596\n",
      "Confidence: 0.2714932126696833\n",
      "Lift: 4.122410097642296\n",
      "======================================\n",
      "Rule: ['pasta'] -> ['shrimp']\n",
      "Support: 0.005065991201173177\n",
      "Confidence: 0.3220338983050847\n",
      "Lift: 4.506672147735896\n",
      "======================================\n",
      "Rule: ['chocolate', 'frozen vegetables'] -> ['shrimp']\n",
      "Support: 0.005332622317024397\n",
      "Confidence: 0.23255813953488375\n",
      "Lift: 3.2545123221103784\n",
      "======================================\n",
      "Rule: ['cooking oil', 'ground beef'] -> ['spaghetti']\n",
      "Support: 0.004799360085321957\n",
      "Confidence: 0.5714285714285714\n",
      "Lift: 3.2819951870487856\n",
      "======================================\n",
      "Rule: ['frozen vegetables', 'spaghetti'] -> ['ground beef']\n",
      "Support: 0.008665511265164644\n",
      "Confidence: 0.31100478468899523\n",
      "Lift: 3.165328208890303\n",
      "======================================\n",
      "Rule: ['frozen vegetables', 'milk'] -> ['olive oil']\n",
      "Support: 0.004799360085321957\n",
      "Confidence: 0.20338983050847456\n",
      "Lift: 3.088314005352364\n",
      "======================================\n",
      "Rule: ['mineral water', 'shrimp'] -> ['frozen vegetables']\n",
      "Support: 0.007199040127982935\n",
      "Confidence: 0.30508474576271183\n",
      "Lift: 3.200616332819722\n",
      "======================================\n",
      "Rule: ['frozen vegetables', 'spaghetti'] -> ['olive oil']\n",
      "Support: 0.005732568990801226\n",
      "Confidence: 0.20574162679425836\n",
      "Lift: 3.1240241752707125\n",
      "======================================\n",
      "Rule: ['frozen vegetables', 'spaghetti'] -> ['shrimp']\n",
      "Support: 0.005999200106652446\n",
      "Confidence: 0.21531100478468898\n",
      "Lift: 3.0131489680782684\n",
      "======================================\n",
      "Rule: ['frozen vegetables', 'spaghetti'] -> ['tomatoes']\n",
      "Support: 0.006665777896280496\n",
      "Confidence: 0.23923444976076558\n",
      "Lift: 3.4980460188216425\n",
      "======================================\n",
      "Rule: ['grated cheese', 'spaghetti'] -> ['ground beef']\n",
      "Support: 0.005332622317024397\n",
      "Confidence: 0.3225806451612903\n",
      "Lift: 3.283144395325426\n",
      "======================================\n",
      "Rule: ['mineral water', 'herb & pepper'] -> ['ground beef']\n",
      "Support: 0.006665777896280496\n",
      "Confidence: 0.39062500000000006\n",
      "Lift: 3.975682666214383\n",
      "======================================\n",
      "Rule: ['spaghetti', 'herb & pepper'] -> ['ground beef']\n",
      "Support: 0.006399146780429276\n",
      "Confidence: 0.3934426229508197\n",
      "Lift: 4.004359721511667\n",
      "======================================\n",
      "Rule: ['ground beef', 'milk'] -> ['olive oil']\n",
      "Support: 0.004932675643247567\n",
      "Confidence: 0.22424242424242427\n",
      "Lift: 3.40494417862839\n",
      "======================================\n",
      "Rule: ['ground beef', 'shrimp'] -> ['spaghetti']\n",
      "Support: 0.005999200106652446\n",
      "Confidence: 0.5232558139534884\n",
      "Lift: 3.005315360233627\n",
      "======================================\n",
      "Rule: ['spaghetti', 'milk'] -> ['olive oil']\n",
      "Support: 0.007199040127982935\n",
      "Confidence: 0.20300751879699247\n",
      "Lift: 3.0825089038385434\n",
      "======================================\n",
      "Rule: ['mineral water', 'soup'] -> ['olive oil']\n",
      "Support: 0.005199306759098787\n",
      "Confidence: 0.22543352601156072\n",
      "Lift: 3.4230301186492245\n",
      "======================================\n",
      "Rule: ['pancakes', 'spaghetti'] -> ['olive oil']\n",
      "Support: 0.005065991201173177\n",
      "Confidence: 0.20105820105820105\n",
      "Lift: 3.0529100529100526\n",
      "======================================\n",
      "Rule: ['mineral water', 'spaghetti', 'milk'] -> ['frozen vegetables']\n",
      "Support: 0.004532728969470737\n",
      "Confidence: 0.28813559322033894\n",
      "Lift: 3.0228043143297376\n",
      "======================================\n"
     ]
    }
   ],
   "source": [
    "for item in association_results:\n",
    "    pair = item[0]\n",
    "    items = [x for x in pair]\n",
    "    print(\"Rule: \" + str(list(item.ordered_statistics[0].items_base)) + \" -> \" + str(list(item.ordered_statistics[0].items_add)))\n",
    "    print(\"Support: \" + str(item[1]))\n",
    "    print(\"Confidence: \" + str(item[2][0][2]))\n",
    "    print(\"Lift: \" + str(item[2][0][3]))\n",
    "    print(\"======================================\")"
   ]
  },
  {
   "cell_type": "code",
   "execution_count": null,
   "id": "b76b6531",
   "metadata": {},
   "outputs": [],
   "source": []
  }
 ],
 "metadata": {
  "kernelspec": {
   "display_name": "Python 3 (ipykernel)",
   "language": "python",
   "name": "python3"
  },
  "language_info": {
   "codemirror_mode": {
    "name": "ipython",
    "version": 3
   },
   "file_extension": ".py",
   "mimetype": "text/x-python",
   "name": "python",
   "nbconvert_exporter": "python",
   "pygments_lexer": "ipython3",
   "version": "3.9.7"
  }
 },
 "nbformat": 4,
 "nbformat_minor": 5
}
