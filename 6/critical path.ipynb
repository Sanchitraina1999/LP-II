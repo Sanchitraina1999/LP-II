{
 "cells": [
  {
   "cell_type": "code",
   "execution_count": 1,
   "metadata": {},
   "outputs": [],
   "source": [
    "import numpy as np\n",
    "import pandas as pd"
   ]
  },
  {
   "cell_type": "code",
   "execution_count": 2,
   "metadata": {},
   "outputs": [],
   "source": [
    "def get_data(filename):\n",
    "    data = pd.read_csv(filename)\n",
    "    start = data['From'].tolist()\n",
    "    end = data['To'].tolist()\n",
    "    duration = data['Time'].tolist()\n",
    "    network = dict() \n",
    "    for i in range(0,len(start)): \n",
    "        task = f'{start[i]} -> {end[i]}'\n",
    "        network[task]= dict()\n",
    "        network[task]['name'] = task\n",
    "        network[task]['duration'] = duration[i]\n",
    "        network[task]['dependencies'] = get_dependencies(start[i], start, end)\n",
    "        network[task]['neighbors'] = get_neighbors(end[i], start, end)\n",
    "        network[task]['ES'] = 0\n",
    "        network[task]['EF'] = 0\n",
    "        network[task]['LS'] = 0\n",
    "        network[task]['LF'] = 0\n",
    "    return start, end, duration, network"
   ]
  },
  {
   "cell_type": "code",
   "execution_count": 3,
   "metadata": {},
   "outputs": [],
   "source": [
    "def print_network(start, end, duration):\n",
    "    print(\"Network:\")\n",
    "    for i in range(0,len(start)):\n",
    "        print(f\"Task: {start[i]} -> {end[i]}\\tDuration: {duration[i]}\")"
   ]
  },
  {
   "cell_type": "code",
   "execution_count": 4,
   "metadata": {},
   "outputs": [],
   "source": [
    "def check_feasability(start, end):\n",
    "    if len(set(start)-set(end)):\n",
    "        return True\n",
    "    if len(set(end)-set(start)):\n",
    "        return True\n",
    "    return False"
   ]
  },
  {
   "cell_type": "code",
   "execution_count": 5,
   "metadata": {},
   "outputs": [],
   "source": [
    "def get_dependencies(task_name, start, end):\n",
    "    dependency_index = [j for j, val in enumerate(end) if val == task_name]\n",
    "    if len(dependency_index):\n",
    "        dependencies = [f\"{start[j]} -> {end[j]}\" for j in dependency_index]\n",
    "        return dependencies\n",
    "    return []"
   ]
  },
  {
   "cell_type": "code",
   "execution_count": 6,
   "metadata": {},
   "outputs": [],
   "source": [
    "def get_neighbors(task_name, start, end):\n",
    "    neighbor_index = [j for j, val in enumerate(start) if val == task_name]\n",
    "    if len(neighbor_index):\n",
    "        neighbors = [f\"{start[j]} -> {end[j]}\" for j in neighbor_index]\n",
    "        return neighbors\n",
    "    return []"
   ]
  },
  {
   "cell_type": "code",
   "execution_count": 7,
   "metadata": {},
   "outputs": [],
   "source": [
    "def get_attribute(network, dependencies, attribute, cond=\"min\"):\n",
    "    attributes = []\n",
    "    for dependency in dependencies:\n",
    "        attributes.append(network[dependency][attribute])\n",
    "    if cond == \"min\":\n",
    "        return min(attributes), dependencies[attributes.index(min(attributes))]\n",
    "    elif cond == \"max\":\n",
    "        return max(attributes), dependencies[attributes.index(max(attributes))]\n",
    "    else:\n",
    "        print(\"Wrong condition passed\")\n",
    "        return -1"
   ]
  },
  {
   "cell_type": "code",
   "execution_count": 8,
   "metadata": {},
   "outputs": [],
   "source": [
    "def forward_pass(network):\n",
    "    for task in network: \n",
    "        dependencies = network[task]['dependencies']\n",
    "        if len(dependencies) > 0: \n",
    "            # if not first task\n",
    "            # calculate ES = maximum EF value from immediate predecessors\n",
    "            network[task]['ES'], pos = get_attribute(network,dependencies,\"EF\",\"max\")\n",
    "            network[task]['EF'] = network[task]['ES'] + network[task]['duration']\n",
    "        else: \n",
    "            #if first task\n",
    "            network[task]['ES'] = 0\n",
    "            network[task]['EF'] = (network[task]['duration'])\n",
    "    return network"
   ]
  },
  {
   "cell_type": "code",
   "execution_count": 9,
   "metadata": {},
   "outputs": [],
   "source": [
    "def backward_pass(network):\n",
    "    back_network = [i for i in network.keys()]\n",
    "    back_network.reverse()\n",
    "    max_EF = 0\n",
    "    last_task = back_network[-1]\n",
    "    # Find the end node\n",
    "    for task in back_network:\n",
    "        if network[task]['EF'] > max_EF:\n",
    "            max_EF = network[task]['EF']\n",
    "            last_task = task\n",
    "    for task in back_network:\n",
    "        if len(network[task][\"neighbors\"])>0:\n",
    "            # if not last task\n",
    "            # calculate LF = minimum LS value from immediate successors\n",
    "            network[task]['LF'], pos = get_attribute(network,network[task][\"neighbors\"],\"LS\",\"min\")\n",
    "            network[task]['LS'] = network[task]['LF'] - network[task]['duration']      \n",
    "        else:\n",
    "            # if last task\n",
    "            network[task]['LF']=network[last_task]['EF']\n",
    "            network[task]['LS']=network[task]['LF'] - network[task]['duration']\n",
    "    return network"
   ]
  },
  {
   "cell_type": "code",
   "execution_count": 10,
   "metadata": {},
   "outputs": [],
   "source": [
    "def print_network_table(network):\n",
    "    print('task name\\tduration\\tES\\t\\tEF\\t\\tLS\\t\\tLF')\n",
    "    for task in network:\n",
    "        print(f\"{network[task]['name']}\\t\\t{network[task]['duration']}\\t\\t{network[task]['ES']}\\t\\t{network[task]['EF']}\\t\\t{network[task]['LS']}\\t\\t{network[task]['LF']}\")"
   ]
  },
  {
   "cell_type": "code",
   "execution_count": 11,
   "metadata": {},
   "outputs": [],
   "source": [
    "def critical_nodes(network):\n",
    "    nodes = []\n",
    "    for task in network:\n",
    "        if(network[task]['ES'] == network[task]['LS'] and network[task]['EF'] == network[task]['LF']):\n",
    "            nodes.append(task)\n",
    "    print(f\"\\nCritical Nodes: {set(nodes)}\")"
   ]
  },
  {
   "cell_type": "code",
   "execution_count": 12,
   "metadata": {},
   "outputs": [
    {
     "name": "stdout",
     "output_type": "stream",
     "text": [
      "task name\tduration\tES\t\tEF\t\tLS\t\tLF\n",
      "1 -> 2\t\t10\t\t0\t\t10\t\t0\t\t10\n",
      "1 -> 3\t\t8\t\t0\t\t8\t\t1\t\t9\n",
      "1 -> 4\t\t9\t\t0\t\t9\t\t1\t\t10\n",
      "2 -> 5\t\t8\t\t10\t\t18\t\t10\t\t18\n",
      "4 -> 6\t\t7\t\t9\t\t16\t\t10\t\t17\n",
      "3 -> 7\t\t16\t\t8\t\t24\t\t9\t\t25\n",
      "5 -> 7\t\t7\t\t18\t\t25\t\t18\t\t25\n",
      "6 -> 7\t\t7\t\t16\t\t23\t\t18\t\t25\n",
      "5 -> 8\t\t6\t\t18\t\t24\t\t18\t\t24\n",
      "6 -> 9\t\t5\t\t16\t\t21\t\t17\t\t22\n",
      "7 -> 10\t\t12\t\t25\t\t37\t\t25\t\t37\n",
      "8 -> 10\t\t13\t\t24\t\t37\t\t24\t\t37\n",
      "9 -> 10\t\t15\t\t21\t\t36\t\t22\t\t37\n",
      "\n",
      "Critical Nodes: {'5 -> 8', '1 -> 2', '5 -> 7', '8 -> 10', '7 -> 10', '2 -> 5'}\n"
     ]
    }
   ],
   "source": [
    "filename = 'critical_path_problem.csv'\n",
    "start, end, duration, network = get_data(filename)\n",
    "if check_feasability(start, end):\n",
    "    network = forward_pass(network)\n",
    "    network = backward_pass(network)\n",
    "    print_network_table(network)\n",
    "    critical_nodes(network)\n",
    "else:\n",
    "    print(\"The provided network is incorrect!\")"
   ]
  }
 ],
 "metadata": {
  "kernelspec": {
   "display_name": "Python 3 (ipykernel)",
   "language": "python",
   "name": "python3"
  },
  "language_info": {
   "codemirror_mode": {
    "name": "ipython",
    "version": 3
   },
   "file_extension": ".py",
   "mimetype": "text/x-python",
   "name": "python",
   "nbconvert_exporter": "python",
   "pygments_lexer": "ipython3",
   "version": "3.9.7"
  }
 },
 "nbformat": 4,
 "nbformat_minor": 4
}
